{
 "cells": [
  {
   "cell_type": "markdown",
   "metadata": {},
   "source": [
    "# Research Review\n",
    "## Strips\n",
    "\n",
    "STRIPS is an automated planner developed by Richard Fikes and Nils Nillson in 1971. This language is the base for most of the languages for expressing automated planning problem instances in use. A STRIPS instance is composed of\n"
   ]
  },
  {
   "cell_type": "code",
   "execution_count": null,
   "metadata": {
    "collapsed": true
   },
   "outputs": [],
   "source": [
    "References\n",
    "1. Richard E. Fikes, Nils J. Nilsson (Winter 1971). \"STRIPS: A New Approach to the Application of\n",
    "Theorem Proving to Problem Solving\".\n",
    "2. Stuart J. Russell, Peter Norvig (2010), Artificial Intelligence: A Modern Approach (3rd Edition).\n",
    "3. Nilsson, N. J. Problem-Solving Methods in Artificial Intelligence. McGraw-Hill Book Company,\n",
    "New York, New York, 1971.\n",
    "4. M.; Long, D. (2002). \"PDDL+: Modeling continuous time dependent effects\". Proceedings of the 3rd\n",
    "International NASA Workshop on Planning and Scheduling for Space."
   ]
  }
 ],
 "metadata": {
  "kernelspec": {
   "display_name": "Python 3",
   "language": "python",
   "name": "python3"
  },
  "language_info": {
   "codemirror_mode": {
    "name": "ipython",
    "version": 3
   },
   "file_extension": ".py",
   "mimetype": "text/x-python",
   "name": "python",
   "nbconvert_exporter": "python",
   "pygments_lexer": "ipython3",
   "version": "3.6.1"
  }
 },
 "nbformat": 4,
 "nbformat_minor": 2
}
