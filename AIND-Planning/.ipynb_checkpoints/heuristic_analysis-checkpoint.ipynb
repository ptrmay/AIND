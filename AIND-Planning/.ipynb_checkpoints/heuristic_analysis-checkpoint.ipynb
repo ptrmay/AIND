{
 "cells": [
  {
   "cell_type": "markdown",
   "metadata": {},
   "source": [
    "## Part 3: Written Analysis\n",
    "\n"
   ]
  },
  {
   "cell_type": "markdown",
   "metadata": {},
   "source": [
    "### Provide an optimal plan for probelms 1,2,3"
   ]
  },
  {
   "cell_type": "code",
   "execution_count": null,
   "metadata": {
    "collapsed": true
   },
   "outputs": [],
   "source": [
    "Problem 1:\n",
    "Load(C1, P1, SFO)\n",
    "Load(C2, P2, JFK)\n",
    "Fly(P1, SFO, JFK)\n",
    "Fly(P2, JFK, SFO)\n",
    "Unload(C1, P1, JFK)\n",
    "Unload(C2, P2, SFO)\n",
    "\n",
    "Problem 2:\n",
    "Load(C1, P1, SFO)\n",
    "Load(C2, P2, JFK)\n",
    "Load(C3, P3, ATL)\n",
    "Fly(P1, SFO, JFK)\n",
    "Fly(P2, JFK, SFO)\n",
    "Fly(P3, ATL, SFO)\n",
    "Unload(C1, P1, JFK)\n",
    "Unload(C3, P3, SFO)\n",
    "Unload(C2, P2, SFO)\n",
    "\n",
    "Problem 3:\n",
    "Load(C2, P2, JFK)\n",
    "Fly(P2, JFK, ORD)\n",
    "Load(C4, P2, ORD)\n",
    "Fly(P2, ORD, SFO)\n",
    "Load(C1, P2, SFO)\n",
    "Unload(C4, P2, SFO)\n",
    "Unload(C2, P2, SFO)\n",
    "Fly(P2, SFO, ATL)\n",
    "Load(C3, P2, ATL)\n",
    "Fly(P2, ATL, JFK)\n",
    "Unload(C1, P2, JFK)\n",
    "Unload(C3, P2, JFK)"
   ]
  },
  {
   "cell_type": "markdown",
   "metadata": {},
   "source": [
    "### Compare and contrast non-heuristic search result metrics (optimality, time elapsed, number of node expansions) for Problems 1,2, and 3"
   ]
  },
  {
   "cell_type": "markdown",
   "metadata": {},
   "source": [
    "Problem 1:\n",
    "\n",
    "| Algorithm | Optimality |  time | number of node expansion|\n",
    "|------|------|------|------|\n",
    "|   breadth-first  |   6   |   0.05   |   43   |\n",
    "|  depth-first    |    20  |   0.02   |   21   |\n",
    "|  uniform    |    6  |    0.04  |    5  |"
   ]
  },
  {
   "cell_type": "markdown",
   "metadata": {},
   "source": [
    "Problem 2:\n",
    "\n",
    "| Algorithm | Optimality |  time | number of node expansion|\n",
    "|------|------|------|------|\n",
    "|   breadth-first  |   9   |   12   |   2358   |\n",
    "|  depth-first    |    84  |   0.2   |   107   |\n",
    "|   uniform   |    9  |    9  |    3615  |"
   ]
  },
  {
   "cell_type": "markdown",
   "metadata": {},
   "source": [
    "Problem 3:\n",
    "\n",
    "| Algorithm | Optimality |  time | number of node expansion|\n",
    "|------|------|------|------|\n",
    "|   breadth-first  |   12   |   148   |   13661   |\n",
    "|  depth-first    |    876  |   5.3   |   1293   |\n",
    "|  uniform    |    12  |    54  |    17014  |"
   ]
  },
  {
   "cell_type": "markdown",
   "metadata": {},
   "source": [
    "Depth first seems to be the fastest search result metrics, but also the least optimal. Whereas breadth-first and uniform cost search seem to provide both an optimal solution, where uniform cost search is faster than breadth-first, but also has the highest number of expansions."
   ]
  },
  {
   "cell_type": "markdown",
   "metadata": {},
   "source": [
    "### Compare and contrast heuristic search result metrics using A* with the \"ignore preconditions\" and \"level-sum\" heuristics for Problems 1, 2, and 3."
   ]
  },
  {
   "cell_type": "markdown",
   "metadata": {},
   "source": [
    "Problem 1:\n",
    "\n",
    "| Algorithm | Optimality |  time | number of node expansion|\n",
    "|------|------|------|------|\n",
    "|   A* ignore  |   6   |   0.04   |   41   |\n",
    "|  A* levelsum    |    6  |   0.7   |   11   |\n"
   ]
  },
  {
   "cell_type": "markdown",
   "metadata": {},
   "source": [
    "Problem 2:\n",
    "\n",
    "| Algorithm | Optimality |  time | number of node expansion|\n",
    "|------|------|------|------|\n",
    "|   A* ignore  |   9   |   2.8   |   1092   |\n",
    "|  A* levelsum    |    9  |   67   |   252   |\n",
    "\n"
   ]
  },
  {
   "cell_type": "markdown",
   "metadata": {},
   "source": [
    "Problem 3:\n",
    "\n",
    "| Algorithm | Optimality |  time | number of node expansion|\n",
    "|------|------|------|------|\n",
    "|   A* ignore  |   13   |   19   |   6554   |\n",
    "|  A* levelsum    |    13  |   211   |   400   |\n",
    "\n",
    "\n"
   ]
  },
  {
   "cell_type": "markdown",
   "metadata": {},
   "source": [
    "A star ignore seems to be the fastet search result metric, A levelsum the slowest. Number of node expansion is the highest for A star and the lowest fo A star levelsum. Interestingly A star has a lower optimality for the last problem than the other two."
   ]
  },
  {
   "cell_type": "markdown",
   "metadata": {},
   "source": [
    "### What was the best heuristic used in these problems? Was it better than non-heuristic search planning methods for all problems? Why or why not?"
   ]
  },
  {
   "cell_type": "markdown",
   "metadata": {},
   "source": [
    "The best heuristic in terms of computation time was A star ignore. Compared to the non heuristic ones, depth first is the fastest overall and has a reasonable number of node expansions for all problems. "
   ]
  }
 ],
 "metadata": {
  "kernelspec": {
   "display_name": "Python 3",
   "language": "python",
   "name": "python3"
  },
  "language_info": {
   "codemirror_mode": {
    "name": "ipython",
    "version": 3
   },
   "file_extension": ".py",
   "mimetype": "text/x-python",
   "name": "python",
   "nbconvert_exporter": "python",
   "pygments_lexer": "ipython3",
   "version": "3.6.1"
  }
 },
 "nbformat": 4,
 "nbformat_minor": 2
}
